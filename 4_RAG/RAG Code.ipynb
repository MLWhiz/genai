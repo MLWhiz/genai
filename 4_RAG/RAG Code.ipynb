{
 "cells": [
  {
   "cell_type": "code",
   "execution_count": null,
   "id": "6334b261-a9a0-4576-a881-9e278c6b0c3d",
   "metadata": {},
   "outputs": [],
   "source": [
    "# BLOG POST: https://www.mlwhiz.com/p/genai-series-building-rag-applications"
   ]
  },
  {
   "cell_type": "markdown",
   "id": "6b255880-4edb-439d-b958-a6bdbd7e6387",
   "metadata": {
    "tags": []
   },
   "source": [
    "## 0. Download the Data and Install Libraries"
   ]
  },
  {
   "cell_type": "code",
   "execution_count": null,
   "id": "0accb491-d7bd-459c-bc01-c0afca2e346e",
   "metadata": {
    "tags": []
   },
   "outputs": [],
   "source": [
    "import kagglehub\n",
    "\n",
    "# Download latest version\n",
    "path = kagglehub.dataset_download(\"tmdb/tmdb-movie-metadata\")\n",
    "\n",
    "print(\"Path to dataset files:\", path)"
   ]
  },
  {
   "cell_type": "code",
   "execution_count": null,
   "id": "f14244f4-9a11-46f4-bbf0-fef1a5a724ec",
   "metadata": {
    "tags": []
   },
   "outputs": [],
   "source": [
    "!mv /home/ec2-user/.cache/kagglehub/datasets/tmdb/tmdb-movie-metadata/versions/2/* ."
   ]
  },
  {
   "cell_type": "code",
   "execution_count": null,
   "id": "85cbfb2e-e2e3-49ec-b5db-4bd055222ec3",
   "metadata": {
    "tags": []
   },
   "outputs": [],
   "source": [
    "!pip install sentence_transformers"
   ]
  },
  {
   "cell_type": "code",
   "execution_count": null,
   "id": "27745c14-b8d1-4249-b21e-5fef7a523543",
   "metadata": {
    "tags": []
   },
   "outputs": [],
   "source": [
    "!pip install chromadb"
   ]
  },
  {
   "cell_type": "code",
   "execution_count": null,
   "id": "31c3d2c1-2553-47d0-a96b-5d40bc3d996f",
   "metadata": {
    "tags": []
   },
   "outputs": [],
   "source": [
    "!pip install google-genai"
   ]
  },
  {
   "cell_type": "markdown",
   "id": "fa61ce3d-9492-4f27-9c13-074f8af8142b",
   "metadata": {},
   "source": [
    "## 1. Load and Preprocess"
   ]
  },
  {
   "cell_type": "code",
   "execution_count": 1,
   "id": "bb284c03-82cb-47f6-a5c4-4658d08efaa9",
   "metadata": {
    "tags": []
   },
   "outputs": [
    {
     "data": {
      "text/plain": [
       "True"
      ]
     },
     "execution_count": 1,
     "metadata": {},
     "output_type": "execute_result"
    }
   ],
   "source": [
    "import pandas as pd\n",
    "import numpy as np\n",
    "from sentence_transformers import SentenceTransformer\n",
    "import chromadb\n",
    "import os\n",
    "import json\n",
    "from google import genai\n",
    "from pydantic import BaseModel, Field\n",
    "from dotenv import load_dotenv\n",
    "load_dotenv()  "
   ]
  },
  {
   "cell_type": "code",
   "execution_count": 2,
   "id": "548f43fe-8539-4839-aaf0-cdf8defa94ae",
   "metadata": {
    "tags": []
   },
   "outputs": [
    {
     "name": "stdout",
     "output_type": "stream",
     "text": [
      "Total movies: 4803\n"
     ]
    },
    {
     "data": {
      "text/html": [
       "<div>\n",
       "<style scoped>\n",
       "    .dataframe tbody tr th:only-of-type {\n",
       "        vertical-align: middle;\n",
       "    }\n",
       "\n",
       "    .dataframe tbody tr th {\n",
       "        vertical-align: top;\n",
       "    }\n",
       "\n",
       "    .dataframe thead th {\n",
       "        text-align: right;\n",
       "    }\n",
       "</style>\n",
       "<table border=\"1\" class=\"dataframe\">\n",
       "  <thead>\n",
       "    <tr style=\"text-align: right;\">\n",
       "      <th></th>\n",
       "      <th>title</th>\n",
       "      <th>overview</th>\n",
       "      <th>genres</th>\n",
       "      <th>release_date</th>\n",
       "    </tr>\n",
       "  </thead>\n",
       "  <tbody>\n",
       "    <tr>\n",
       "      <th>0</th>\n",
       "      <td>Avatar</td>\n",
       "      <td>In the 22nd century, a paraplegic Marine is di...</td>\n",
       "      <td>[{\"id\": 28, \"name\": \"Action\"}, {\"id\": 12, \"nam...</td>\n",
       "      <td>2009-12-10</td>\n",
       "    </tr>\n",
       "    <tr>\n",
       "      <th>1</th>\n",
       "      <td>Pirates of the Caribbean: At World's End</td>\n",
       "      <td>Captain Barbossa, long believed to be dead, ha...</td>\n",
       "      <td>[{\"id\": 12, \"name\": \"Adventure\"}, {\"id\": 14, \"...</td>\n",
       "      <td>2007-05-19</td>\n",
       "    </tr>\n",
       "  </tbody>\n",
       "</table>\n",
       "</div>"
      ],
      "text/plain": [
       "                                      title  \\\n",
       "0                                    Avatar   \n",
       "1  Pirates of the Caribbean: At World's End   \n",
       "\n",
       "                                            overview  \\\n",
       "0  In the 22nd century, a paraplegic Marine is di...   \n",
       "1  Captain Barbossa, long believed to be dead, ha...   \n",
       "\n",
       "                                              genres release_date  \n",
       "0  [{\"id\": 28, \"name\": \"Action\"}, {\"id\": 12, \"nam...   2009-12-10  \n",
       "1  [{\"id\": 12, \"name\": \"Adventure\"}, {\"id\": 14, \"...   2007-05-19  "
      ]
     },
     "execution_count": 2,
     "metadata": {},
     "output_type": "execute_result"
    }
   ],
   "source": [
    "movies = pd.read_csv('tmdb_5000_movies.csv')\n",
    "credits = pd.read_csv('tmdb_5000_credits.csv')\n",
    "\n",
    "# Let's take a peek at what we're working with\n",
    "print(f\"Total movies: {len(movies)}\")\n",
    "movies[['title', 'overview', 'genres', 'release_date']].head(2)\n"
   ]
  },
  {
   "cell_type": "code",
   "execution_count": 3,
   "id": "2b0f3e28-8f40-47e2-84b5-0f5dd90064b1",
   "metadata": {
    "tags": []
   },
   "outputs": [
    {
     "name": "stdout",
     "output_type": "stream",
     "text": [
      "Created 4803 movie documents\n",
      "Sample document:\n",
      "Movie: Pirates of the Caribbean: At World's End\n",
      "Year: 2007\n",
      "Genres: Adventure, Fantasy, Action\n",
      "Overview: Captain Barbossa, long believed to be dead, has come back to life and is headed to the edge of the Earth with Will Turner and Elizabeth Swann. But nothing is quite as it seems.\n",
      "\n"
     ]
    }
   ],
   "source": [
    "# Extract genres from JSON string\n",
    "def extract_genres(genres_json):\n",
    "    try:\n",
    "        genres_list = json.loads(genres_json.replace(\"'\", '\"'))\n",
    "        return [genre['name'] for genre in genres_list]\n",
    "    except:\n",
    "        return []\n",
    "\n",
    "# Apply extraction\n",
    "movies['genres_list'] = movies['genres'].apply(extract_genres)\n",
    "\n",
    "# Now create rich document representations with movie descriptions\n",
    "def create_movie_documents(movies):\n",
    "    \"\"\"Create rich document representations of movies with descriptions.\"\"\"\n",
    "    documents = []\n",
    "    \n",
    "    for _, movie in movies.iterrows():\n",
    "        movie_id = movie['id']\n",
    "        title = movie['title']\n",
    "        overview = movie['overview']\n",
    "        \n",
    "        # Extract year from release date if present\n",
    "        year = \"\"\n",
    "        if pd.notna(movie['release_date']) and len(movie['release_date']) >= 4:\n",
    "            year = movie['release_date'][:4]  # Just the year\n",
    "        \n",
    "        genres = movie['genres_list']\n",
    "        \n",
    "        # Create document text - this will be embedded\n",
    "        doc = f\"Movie: {title}\\n\"\n",
    "        if year:\n",
    "            doc += f\"Year: {year}\\n\"\n",
    "        if genres and len(genres) > 0:\n",
    "            doc += f\"Genres: {', '.join(genres)}\\n\"\n",
    "        if overview and pd.notna(overview):\n",
    "            doc += f\"Overview: {overview}\\n\"\n",
    "        \n",
    "        documents.append({\n",
    "            'id': str(movie_id),\n",
    "            'content': doc,\n",
    "            'metadata': {\n",
    "                'title': title,\n",
    "                'year': year,\n",
    "                'genres': \"|\".join(genres),\n",
    "                'overview': overview if pd.notna(overview) else \"\"\n",
    "            }\n",
    "        })\n",
    "    \n",
    "    return documents\n",
    "\n",
    "# Create our document collection\n",
    "movie_documents = create_movie_documents(movies)\n",
    "print(f\"Created {len(movie_documents)} movie documents\")\n",
    "print(f\"Sample document:\")\n",
    "print(movie_documents[1]['content'])\n"
   ]
  },
  {
   "cell_type": "markdown",
   "id": "77b28ffb-ca48-4bdf-a735-abb183acd18c",
   "metadata": {},
   "source": [
    "## 3. Create our Embeddings"
   ]
  },
  {
   "cell_type": "code",
   "execution_count": 4,
   "id": "49a26e55-07ba-41aa-bef5-f0e55788a4b9",
   "metadata": {
    "tags": []
   },
   "outputs": [
    {
     "data": {
      "application/vnd.jupyter.widget-view+json": {
       "model_id": "a675e7598d4a446f8b7f1e5a7e6b4af4",
       "version_major": 2,
       "version_minor": 0
      },
      "text/plain": [
       "modules.json:   0%|          | 0.00/349 [00:00<?, ?B/s]"
      ]
     },
     "metadata": {},
     "output_type": "display_data"
    },
    {
     "data": {
      "application/vnd.jupyter.widget-view+json": {
       "model_id": "d332a6eddb914258adb0ba573cf1e5bc",
       "version_major": 2,
       "version_minor": 0
      },
      "text/plain": [
       "config_sentence_transformers.json:   0%|          | 0.00/116 [00:00<?, ?B/s]"
      ]
     },
     "metadata": {},
     "output_type": "display_data"
    },
    {
     "data": {
      "application/vnd.jupyter.widget-view+json": {
       "model_id": "bc79d267f2344e26b5e85db7aec791c1",
       "version_major": 2,
       "version_minor": 0
      },
      "text/plain": [
       "README.md:   0%|          | 0.00/10.4k [00:00<?, ?B/s]"
      ]
     },
     "metadata": {},
     "output_type": "display_data"
    },
    {
     "data": {
      "application/vnd.jupyter.widget-view+json": {
       "model_id": "bff6d7c42096472e8968de65a00405da",
       "version_major": 2,
       "version_minor": 0
      },
      "text/plain": [
       "sentence_bert_config.json:   0%|          | 0.00/53.0 [00:00<?, ?B/s]"
      ]
     },
     "metadata": {},
     "output_type": "display_data"
    },
    {
     "data": {
      "application/vnd.jupyter.widget-view+json": {
       "model_id": "394ec9ddae274ff9a402ba100dc5ea44",
       "version_major": 2,
       "version_minor": 0
      },
      "text/plain": [
       "config.json:   0%|          | 0.00/571 [00:00<?, ?B/s]"
      ]
     },
     "metadata": {},
     "output_type": "display_data"
    },
    {
     "name": "stderr",
     "output_type": "stream",
     "text": [
      "Xet Storage is enabled for this repo, but the 'hf_xet' package is not installed. Falling back to regular HTTP download. For better performance, install the package with: `pip install huggingface_hub[hf_xet]` or `pip install hf_xet`\n"
     ]
    },
    {
     "data": {
      "application/vnd.jupyter.widget-view+json": {
       "model_id": "e660940f9929421f955b63b9b9867330",
       "version_major": 2,
       "version_minor": 0
      },
      "text/plain": [
       "model.safetensors:   0%|          | 0.00/438M [00:00<?, ?B/s]"
      ]
     },
     "metadata": {},
     "output_type": "display_data"
    },
    {
     "data": {
      "application/vnd.jupyter.widget-view+json": {
       "model_id": "d8c62cf8c4494c609757886dcca83f4f",
       "version_major": 2,
       "version_minor": 0
      },
      "text/plain": [
       "tokenizer_config.json:   0%|          | 0.00/363 [00:00<?, ?B/s]"
      ]
     },
     "metadata": {},
     "output_type": "display_data"
    },
    {
     "data": {
      "application/vnd.jupyter.widget-view+json": {
       "model_id": "0bf655802ccd43d0b4339ae56193242c",
       "version_major": 2,
       "version_minor": 0
      },
      "text/plain": [
       "vocab.txt:   0%|          | 0.00/232k [00:00<?, ?B/s]"
      ]
     },
     "metadata": {},
     "output_type": "display_data"
    },
    {
     "data": {
      "application/vnd.jupyter.widget-view+json": {
       "model_id": "aebcbd3fc6b9468e82574a7d89fabff0",
       "version_major": 2,
       "version_minor": 0
      },
      "text/plain": [
       "tokenizer.json:   0%|          | 0.00/466k [00:00<?, ?B/s]"
      ]
     },
     "metadata": {},
     "output_type": "display_data"
    },
    {
     "data": {
      "application/vnd.jupyter.widget-view+json": {
       "model_id": "1ff473d16ce44d3eb1a756c0297cdacc",
       "version_major": 2,
       "version_minor": 0
      },
      "text/plain": [
       "special_tokens_map.json:   0%|          | 0.00/239 [00:00<?, ?B/s]"
      ]
     },
     "metadata": {},
     "output_type": "display_data"
    },
    {
     "data": {
      "application/vnd.jupyter.widget-view+json": {
       "model_id": "098538f8d51f433f85dddb175dc2bf33",
       "version_major": 2,
       "version_minor": 0
      },
      "text/plain": [
       "config.json:   0%|          | 0.00/190 [00:00<?, ?B/s]"
      ]
     },
     "metadata": {},
     "output_type": "display_data"
    }
   ],
   "source": [
    "# Initialize our embedding model\n",
    "# Using a smaller model for speed, but you can use more powerful ones\n",
    "model = SentenceTransformer('all-mpnet-base-v2')\n",
    "\n",
    "# Initialize ChromaDB\n",
    "chroma_client = chromadb.Client()\n",
    "collection = chroma_client.create_collection(name=\"my_movie_index\")"
   ]
  },
  {
   "cell_type": "code",
   "execution_count": 5,
   "id": "8fcec2c9-9e37-4c2f-8fc3-29c15b55d42a",
   "metadata": {
    "tags": []
   },
   "outputs": [
    {
     "name": "stdout",
     "output_type": "stream",
     "text": [
      "Added 4803 movies to the vector database\n"
     ]
    }
   ],
   "source": [
    "# Process in batches to avoid memory issues\n",
    "batch_size = 1000\n",
    "for i in range(0, len(movie_documents), batch_size):\n",
    "    batch = movie_documents[i:i+batch_size]\n",
    "    \n",
    "    ids = [doc['id'] for doc in batch]\n",
    "    contents = [doc['content'] for doc in batch]\n",
    "    metadatas = [doc['metadata'] for doc in batch]\n",
    "    \n",
    "    # Generate embeddings\n",
    "    embeddings = model.encode(contents)\n",
    "    \n",
    "    # Add to collection\n",
    "    collection.add(\n",
    "        ids=ids,\n",
    "        embeddings=embeddings.tolist(),\n",
    "        documents=contents,\n",
    "        metadatas=metadatas\n",
    "    )\n",
    "\n",
    "print(f\"Added {collection.count()} movies to the vector database\")"
   ]
  },
  {
   "cell_type": "code",
   "execution_count": 6,
   "id": "b671a876-1f54-4ff8-8053-b7ac840b00d6",
   "metadata": {
    "tags": []
   },
   "outputs": [
    {
     "name": "stdout",
     "output_type": "stream",
     "text": [
      "\n",
      "Let's test our vector store with a sample query...\n",
      "\n",
      "Result 1:\n",
      "Title: Interstellar\n",
      "Overview: Interstellar chronicles the adventures of a group of explorers who make use of a newly discovered wormhole to surpass the limitations on human space travel and conquer the vast distances involved in an interstellar voyage.\n",
      "Genres: Adventure|Drama|Science Fiction\n",
      "\n",
      "Result 2:\n",
      "Title: Transcendence\n",
      "Overview: Two leading computer scientists work toward their goal of Technological Singularity,  as a radical anti-technology organization fights to prevent them from creating a world where computers can transcend the abilities of the human brain.\n",
      "Genres: Thriller|Science Fiction|Drama|Mystery\n",
      "\n",
      "Result 3:\n",
      "Title: The Theory of Everything\n",
      "Overview: The Theory of Everything is the extraordinary story of one of the world’s greatest living minds, the renowned astrophysicist Stephen Hawking, who falls deeply in love with fellow Cambridge student Jane Wilde.\n",
      "Genres: Drama|Romance\n"
     ]
    }
   ],
   "source": [
    "print(\"\\nLet's test our vector store with a sample query...\")\n",
    "test_query = \"sci-fi movies with philosophical themes\"\n",
    "\n",
    "test_embedding = model.encode(test_query).tolist()\n",
    "\n",
    "results = collection.query(query_embeddings=[test_embedding], n_results=3)\n",
    "\n",
    "for i, (doc, metadata) in enumerate(zip(results['documents'][0], results['metadatas'][0])):\n",
    "    print(f\"\\nResult {i+1}:\")\n",
    "    print(f\"Title: {metadata['title']}\")\n",
    "    print(f\"Overview: {metadata['overview']}\")\n",
    "    print(f\"Genres: {metadata['genres']}\")\n"
   ]
  },
  {
   "cell_type": "markdown",
   "id": "09ac2a90-77f0-484c-8b50-7ac87af79185",
   "metadata": {},
   "source": [
    "## 4. Create Retrieval"
   ]
  },
  {
   "cell_type": "markdown",
   "id": "bd270295-224d-41ed-b338-c72888bbd20c",
   "metadata": {},
   "source": [
    "### 4.1 Basic Retrieval"
   ]
  },
  {
   "cell_type": "code",
   "execution_count": 7,
   "id": "e32df95d-a249-4e1f-9118-e0b4eba909f7",
   "metadata": {
    "tags": []
   },
   "outputs": [],
   "source": [
    "def query_expansion(query):\n",
    "    \"\"\"Expand the query to improve retrieval.\"\"\"\n",
    "    # Simple rule-based expansions\n",
    "    expansions = [\n",
    "        query,  # Original query\n",
    "        f\"Movies similar to {query}\",\n",
    "        f\"Plot description: {query}\",\n",
    "        f\"Movie themes and content about {query}\"\n",
    "    ]\n",
    "    return expansions\n",
    "\n",
    "def retrieve_movie_info(query, n_results=5):\n",
    "    \"\"\"Retrieve relevant movie information for a query.\"\"\"\n",
    "    # Expand query for better recall\n",
    "    expanded_queries = query_expansion(query)\n",
    "    \n",
    "    all_results = []\n",
    "    for expanded_query in expanded_queries:\n",
    "        # Generate embedding for the query\n",
    "        query_embedding = model.encode(expanded_query).tolist()\n",
    "        \n",
    "        # Retrieve relevant documents\n",
    "        results = collection.query(\n",
    "            query_embeddings=[query_embedding],\n",
    "            n_results=n_results\n",
    "        )\n",
    "        \n",
    "        # Add to results list\n",
    "        for doc, metadata, id in zip(results['documents'][0], \n",
    "                                    results['metadatas'][0],\n",
    "                                    results['ids'][0]):\n",
    "            all_results.append({\n",
    "                'id': id,\n",
    "                'document': doc,\n",
    "                'metadata': metadata,\n",
    "                'query': expanded_query\n",
    "            })\n",
    "    \n",
    "    # Remove duplicates (same movie ID)\n",
    "    unique_results = {}\n",
    "    for result in all_results:\n",
    "        if result['id'] not in unique_results:\n",
    "            unique_results[result['id']] = result\n",
    "    \n",
    "    return list(unique_results.values())"
   ]
  },
  {
   "cell_type": "code",
   "execution_count": 8,
   "id": "b7ab18bc-8744-42f9-bec8-8777ef44be61",
   "metadata": {
    "tags": []
   },
   "outputs": [
    {
     "data": {
      "text/plain": [
       "[{'id': '157336',\n",
       "  'document': 'Movie: Interstellar\\nYear: 2014\\nGenres: Adventure, Drama, Science Fiction\\nOverview: Interstellar chronicles the adventures of a group of explorers who make use of a newly discovered wormhole to surpass the limitations on human space travel and conquer the vast distances involved in an interstellar voyage.\\n',\n",
       "  'metadata': {'year': '2014',\n",
       "   'genres': 'Adventure|Drama|Science Fiction',\n",
       "   'title': 'Interstellar',\n",
       "   'overview': 'Interstellar chronicles the adventures of a group of explorers who make use of a newly discovered wormhole to surpass the limitations on human space travel and conquer the vast distances involved in an interstellar voyage.'},\n",
       "  'query': 'sci-fi movies with philosophical themes'},\n",
       " {'id': '157353',\n",
       "  'document': 'Movie: Transcendence\\nYear: 2014\\nGenres: Thriller, Science Fiction, Drama, Mystery\\nOverview: Two leading computer scientists work toward their goal of Technological Singularity,  as a radical anti-technology organization fights to prevent them from creating a world where computers can transcend the abilities of the human brain.\\n',\n",
       "  'metadata': {'year': '2014',\n",
       "   'title': 'Transcendence',\n",
       "   'genres': 'Thriller|Science Fiction|Drama|Mystery',\n",
       "   'overview': 'Two leading computer scientists work toward their goal of Technological Singularity,  as a radical anti-technology organization fights to prevent them from creating a world where computers can transcend the abilities of the human brain.'},\n",
       "  'query': 'sci-fi movies with philosophical themes'},\n",
       " {'id': '266856',\n",
       "  'document': 'Movie: The Theory of Everything\\nYear: 2014\\nGenres: Drama, Romance\\nOverview: The Theory of Everything is the extraordinary story of one of the world’s greatest living minds, the renowned astrophysicist Stephen Hawking, who falls deeply in love with fellow Cambridge student Jane Wilde.\\n',\n",
       "  'metadata': {'year': '2014',\n",
       "   'overview': 'The Theory of Everything is the extraordinary story of one of the world’s greatest living minds, the renowned astrophysicist Stephen Hawking, who falls deeply in love with fellow Cambridge student Jane Wilde.',\n",
       "   'genres': 'Drama|Romance',\n",
       "   'title': 'The Theory of Everything'},\n",
       "  'query': 'sci-fi movies with philosophical themes'},\n",
       " {'id': '70981',\n",
       "  'document': 'Movie: Prometheus\\nYear: 2012\\nGenres: Science Fiction, Adventure, Mystery\\nOverview: A team of explorers discover a clue to the origins of mankind on Earth, leading them on a journey to the darkest corners of the universe. There, they must fight a terrifying battle to save the future of the human race.\\n',\n",
       "  'metadata': {'year': '2012',\n",
       "   'overview': 'A team of explorers discover a clue to the origins of mankind on Earth, leading them on a journey to the darkest corners of the universe. There, they must fight a terrifying battle to save the future of the human race.',\n",
       "   'title': 'Prometheus',\n",
       "   'genres': 'Science Fiction|Adventure|Mystery'},\n",
       "  'query': 'sci-fi movies with philosophical themes'},\n",
       " {'id': '1381',\n",
       "  'document': 'Movie: The Fountain\\nYear: 2006\\nGenres: Drama, Adventure, Science Fiction, Romance\\nOverview: Spanning over one thousand years, and three parallel stories, The Fountain is a story of love, death, spirituality, and the fragility of our existence in this world.\\n',\n",
       "  'metadata': {'genres': 'Drama|Adventure|Science Fiction|Romance',\n",
       "   'title': 'The Fountain',\n",
       "   'year': '2006',\n",
       "   'overview': 'Spanning over one thousand years, and three parallel stories, The Fountain is a story of love, death, spirituality, and the fragility of our existence in this world.'},\n",
       "  'query': 'sci-fi movies with philosophical themes'},\n",
       " {'id': '188927',\n",
       "  'document': 'Movie: Star Trek Beyond\\nYear: 2016\\nGenres: Action, Adventure, Science Fiction\\nOverview: The USS Enterprise crew explores the furthest reaches of uncharted space, where they encounter a mysterious new enemy who puts them and everything the Federation stands for to the test.\\n',\n",
       "  'metadata': {'overview': 'The USS Enterprise crew explores the furthest reaches of uncharted space, where they encounter a mysterious new enemy who puts them and everything the Federation stands for to the test.',\n",
       "   'year': '2016',\n",
       "   'genres': 'Action|Adventure|Science Fiction',\n",
       "   'title': 'Star Trek Beyond'},\n",
       "  'query': 'Movies similar to sci-fi movies with philosophical themes'},\n",
       " {'id': '119450',\n",
       "  'document': 'Movie: Dawn of the Planet of the Apes\\nYear: 2014\\nGenres: Science Fiction, Action, Drama, Thriller\\nOverview: A group of scientists in San Francisco struggle to stay alive in the aftermath of a plague that is wiping out humanity, while Caesar tries to maintain dominance over his community of intelligent apes.\\n',\n",
       "  'metadata': {'year': '2014',\n",
       "   'overview': 'A group of scientists in San Francisco struggle to stay alive in the aftermath of a plague that is wiping out humanity, while Caesar tries to maintain dominance over his community of intelligent apes.',\n",
       "   'genres': 'Science Fiction|Action|Drama|Thriller',\n",
       "   'title': 'Dawn of the Planet of the Apes'},\n",
       "  'query': 'Plot description: sci-fi movies with philosophical themes'},\n",
       " {'id': '15800',\n",
       "  'document': \"Movie: Trekkies\\nYear: 1997\\nGenres: Documentary\\nOverview: A hilarious look at the universe's most fervent fans.\\n\",\n",
       "  'metadata': {'overview': \"A hilarious look at the universe's most fervent fans.\",\n",
       "   'title': 'Trekkies',\n",
       "   'genres': 'Documentary',\n",
       "   'year': '1997'},\n",
       "  'query': 'Movie themes and content about sci-fi movies with philosophical themes'}]"
      ]
     },
     "execution_count": 8,
     "metadata": {},
     "output_type": "execute_result"
    }
   ],
   "source": [
    "retrieve_movie_info(\"sci-fi movies with philosophical themes\")"
   ]
  },
  {
   "cell_type": "code",
   "execution_count": 9,
   "id": "261d11de-8c2d-41d7-9219-4bb56c2d35bb",
   "metadata": {
    "tags": []
   },
   "outputs": [
    {
     "name": "stdout",
     "output_type": "stream",
     "text": [
      "I am a large language model, trained by Google.\n",
      "\n"
     ]
    }
   ],
   "source": [
    "# Check we have access to Gemini\n",
    "client = genai.Client(api_key=os.environ.get(\"GENAI_API_KEY\"))\n",
    "\n",
    "response = client.models.generate_content(\n",
    "    model=\"gemini-2.0-flash\",\n",
    "    contents=[\"whats your name\"]\n",
    ")\n",
    "print(response.text)"
   ]
  },
  {
   "cell_type": "code",
   "execution_count": 10,
   "id": "9c86fb7b-1cb7-4a89-a728-8cb715d7f826",
   "metadata": {
    "tags": []
   },
   "outputs": [],
   "source": [
    "class Content(BaseModel):\n",
    "    title: str = Field(..., description=\"title of the movie\")\n",
    "    why_picked: str = Field(..., description=\"why did you pick it\")\n",
    "\n",
    "\n",
    "def generate_rag_response(query, context):\n",
    "    # Format the prompt with retrieved context\n",
    "    prompt = f\"\"\"\n",
    "    You are a knowledgeable movie recommendation system with deep understanding of film plots, themes, and content. \n",
    "    Use the following retrieved information about movies to answer the user's question.\n",
    "    \n",
    "    User Query: {query}\n",
    "    \n",
    "    Retrieved Movie Information:\n",
    "    {context}\n",
    "    \n",
    "    Based on this information, provide a helpful response to the user's query.\n",
    "    If the user is asking about themes, plot elements, or specific content, use the movie overviews to provide detailed insights.\n",
    "\n",
    "    If the retrieved information doesn't contain relevant details to answer the question, acknowledge the limitations and provide general movie information or suggestions.\n",
    "    \"\"\"\n",
    "    \n",
    "    response = client.models.generate_content(\n",
    "        model=\"gemini-2.0-flash\",\n",
    "        contents=[prompt],\n",
    "        config={\n",
    "        \"response_mime_type\": \"application/json\",\n",
    "        \"response_schema\": list[Content],\n",
    "    })\n",
    "    \n",
    "    return response.text\n",
    "\n",
    "\n",
    "def movie_rag(user_query):\n",
    "    # Retrieve relevant movie information\n",
    "    results = retrieve_movie_info(user_query)\n",
    "    \n",
    "    # Format context from retrieved documents\n",
    "    context = \"\\n\\n\".join([res['document'] for res in results])\n",
    "\n",
    "    # Generate response\n",
    "    response = generate_rag_response(user_query, context)\n",
    "    \n",
    "    return response, results"
   ]
  },
  {
   "cell_type": "code",
   "execution_count": 11,
   "id": "dcc670b9-0c06-4cd2-b279-5bf1fda03ef1",
   "metadata": {
    "tags": []
   },
   "outputs": [],
   "source": [
    "response, results = movie_rag(\"romantic movies but sci-fi\")"
   ]
  },
  {
   "cell_type": "code",
   "execution_count": 12,
   "id": "40f4078a-819e-4f21-97c3-b7e4da6a0646",
   "metadata": {
    "tags": []
   },
   "outputs": [
    {
     "name": "stdout",
     "output_type": "stream",
     "text": [
      "[\n",
      "  {\n",
      "    \"title\": \"The Lovers\",\n",
      "    \"why_picked\": \"This film is an epic romance and time travel adventure set against the backdrop of war, featuring a British officer and an Indian woman in 18th century India, and a present-day marine biologist and his wife.\"\n",
      "  },\n",
      "  {\n",
      "    \"title\": \"Her\",\n",
      "    \"why_picked\": \"This movie explores an unconventional love story between a lonely writer and his newly developed operating system, blending science fiction with a sweet tale about love and technology.\"\n",
      "  },\n",
      "  {\n",
      "    \"title\": \"Code 46\",\n",
      "    \"why_picked\": \"A futuristic love story where the romance is doomed by genetic incompatibility, fitting both the romance and science fiction themes.\"\n",
      "  }\n",
      "]\n"
     ]
    }
   ],
   "source": [
    "print(response)"
   ]
  },
  {
   "cell_type": "code",
   "execution_count": 13,
   "id": "06c7717e-310f-4def-833a-1bbba54edc09",
   "metadata": {
    "tags": []
   },
   "outputs": [
    {
     "name": "stdout",
     "output_type": "stream",
     "text": [
      "Retrieval Context: ['The Lovers', 'Her', 'Code 46', 'Interstellar', 'Sex Drive', 'Star Trek Beyond', 'Two Lovers', 'The Last Five Years', 'Beginners']\n"
     ]
    }
   ],
   "source": [
    "print(\"Retrieval Context:\", [x['metadata']['title'] for x in results])"
   ]
  },
  {
   "cell_type": "code",
   "execution_count": 14,
   "id": "ae9f870c-7752-463c-9c79-e5fc3d07fe4d",
   "metadata": {
    "tags": []
   },
   "outputs": [
    {
     "name": "stdout",
     "output_type": "stream",
     "text": [
      "\n",
      "Query: Recommend me sci-fi movies like Inception\n",
      "\n",
      "Response:\n",
      "[\n",
      "  {\n",
      "    \"title\": \"Interstellar\",\n",
      "    \"why_picked\": \"Like Inception, Interstellar is a complex science fiction film that delves into themes of reality, perception, and the human mind, all while presenting a visually stunning and thought-provoking narrative.\"\n",
      "  },\n",
      "  {\n",
      "    \"title\": \"Transcendence\",\n",
      "    \"why_picked\": \"Transcendence explores the idea of implanting human consciousness into machines, similar to how Inception deals with planting ideas into the subconscious.\"\n",
      "  },\n",
      "  {\n",
      "    \"title\": \"Prometheus\",\n",
      "    \"why_picked\": \"If you enjoyed the mystery and adventure aspects of Inception, Prometheus takes viewers on a journey to uncover the origins of mankind, filled with suspense and unexpected twists.\"\n",
      "  },\n",
      "  {\n",
      "    \"title\": \"I Origins\",\n",
      "    \"why_picked\": \"I Origins shares the element of questioning reality and existence, this time through the eyes of a molecular biologist, akin to how Inception explores the nature of dreams and reality.\"\n",
      "  }\n",
      "]\n",
      "\n",
      "Retrieved movies:\n",
      "- Inception (2010)\n",
      "- Interstellar (2014)\n",
      "- Transcendence (2014)\n",
      "...\n",
      "\n",
      "Query: What are the best comedy movies from the 90s?\n",
      "\n",
      "Response:\n",
      "[\n",
      "  {\n",
      "    \"title\": \"Slacker\",\n",
      "    \"why_picked\": \"This 1990 comedy offers a glimpse into the lives of social outcasts and misfits in Austin, Texas, using a series of vignettes to create a unique and engaging narrative.\"\n",
      "  },\n",
      "  {\n",
      "    \"title\": \"Mallrats\",\n",
      "    \"why_picked\": \"Released in 1995, Mallrats combines romance and comedy as it follows two best friends seeking refuge in a local mall after being dumped by their girlfriends.\"\n",
      "  },\n",
      "  {\n",
      "    \"title\": \"Foolish\",\n",
      "    \"why_picked\": \"This 1999 comedy-drama explores the lives of two brothers: a comedian trying to make it in LA comedy clubs and a gangster navigating the streets. Their competition and rivalry, especially over a girl, adds depth to the comedic elements.\"\n",
      "  },\n",
      "  {\n",
      "    \"title\": \"Dick Tracy\",\n",
      "    \"why_picked\": \"A blend of adventure, action, comedy, thriller, and crime, this 1990 film features the comic strip detective Dick Tracy as he battles Big Boy Caprice's mob while dealing with the advances of Breathless Mahoney.\"\n",
      "  },\n",
      "  {\n",
      "    \"title\": \"Metropolitan\",\n",
      "    \"why_picked\": \"This 1990 comedic chronicle follows a middle-class young man's romantic misadventures among New York City's debutante society, offering witty dialogue and observations.\"\n",
      "  },\n",
      "  {\n",
      "    \"title\": \"UHF\",\n",
      "    \"why_picked\": \"This 1989 comedy centers around the eccentric new manager of a UHF television channel who tries to save the station from financial ruin with an odd array of programming.\"\n",
      "  }\n",
      "]\n",
      "\n",
      "Retrieved movies:\n",
      "- The Original Kings of Comedy (2000)\n",
      "- Slacker (1990)\n",
      "- Mallrats (1995)\n",
      "...\n",
      "\n",
      "Query: Movies about artificial intelligence with philosophical themes\n",
      "\n",
      "Response:\n",
      "[\n",
      "  {\n",
      "    \"title\": \"Transcendence\",\n",
      "    \"why_picked\": \"This movie explores the concept of Technological Singularity and the potential consequences of creating AI that surpasses human intelligence, which aligns with philosophical themes related to AI.\"\n",
      "  },\n",
      "  {\n",
      "    \"title\": \"A.I. Artificial Intelligence\",\n",
      "    \"why_picked\": \"This film delves into the emotional and existential aspects of AI, questioning what it means to be human and the possibility of AI developing genuine emotions and a sense of belonging, fitting the request for philosophical themes.\"\n",
      "  },\n",
      "  {\n",
      "    \"title\": \"Automata\",\n",
      "    \"why_picked\": \"This movie presents a scenario where the manipulation of robots leads to profound consequences for humanity, touching upon ethical and philosophical questions about the role and impact of AI on society.\"\n",
      "  }\n",
      "]\n",
      "\n",
      "Retrieved movies:\n",
      "- Transcendence (2014)\n",
      "- I, Robot (2004)\n",
      "- A.I. Artificial Intelligence (2001)\n",
      "...\n",
      "\n",
      "Query: Family-friendly animated movies with good ratings\n",
      "\n",
      "Response:\n",
      "[\n",
      "  {\n",
      "    \"title\": \"Dwegons\",\n",
      "    \"why_picked\": \"This animated movie is family-friendly and features colorful creatures, suggesting a positive and engaging experience for children.\"\n",
      "  },\n",
      "  {\n",
      "    \"title\": \"Ponyo\",\n",
      "    \"why_picked\": \"This is an animated family movie about friendship, adventure, and magic, making it suitable and enjoyable for a younger audience.\"\n",
      "  },\n",
      "  {\n",
      "    \"title\": \"Home\",\n",
      "    \"why_picked\": \"This animated movie combines fantasy, comedy, and family themes with a science fiction element, offering an engaging and entertaining story for families.\"\n",
      "  },\n",
      "  {\n",
      "    \"title\": \"The Croods\",\n",
      "    \"why_picked\": \"This animated movie is an adventure-comedy with family and fantasy elements, focusing on a prehistoric family's journey through a new world.  It is generally well-received and appropriate for family viewing.\"\n",
      "  },\n",
      "  {\n",
      "    \"title\": \"Unaccompanied Minors\",\n",
      "    \"why_picked\": \"While not animated, this is a family-friendly comedy about kids learning about friendship during Christmas, suggesting it has positive themes suitable for families.\"\n",
      "  }\n",
      "]\n",
      "\n",
      "Retrieved movies:\n",
      "- Dwegons (2014)\n",
      "- Ponyo (2008)\n",
      "- Sausage Party (2016)\n",
      "...\n"
     ]
    }
   ],
   "source": [
    "# Test queries\n",
    "test_queries = [\n",
    "    \"Recommend me sci-fi movies like Inception\",\n",
    "    \"What are the best comedy movies from the 90s?\",\n",
    "    \"Movies about artificial intelligence with philosophical themes\",\n",
    "    \"Family-friendly animated movies with good ratings\"\n",
    "]\n",
    "\n",
    "for query in test_queries:\n",
    "    print(f\"\\nQuery: {query}\")\n",
    "    response, results = movie_rag(query)\n",
    "    print(\"\\nResponse:\")\n",
    "    print(response)\n",
    "    print(\"\\nRetrieved movies:\")\n",
    "    for res in results[:3]:  # Show top 3 retrieved movies\n",
    "        print(f\"- {res['metadata']['title']} ({res['metadata']['year']})\")\n",
    "    print(\"...\")"
   ]
  },
  {
   "cell_type": "markdown",
   "id": "aa43069b-cea9-4d75-bc12-3a466467c3e0",
   "metadata": {},
   "source": [
    "### 4.2 Hyde Retrieval"
   ]
  },
  {
   "cell_type": "code",
   "execution_count": 15,
   "id": "0dc0a48a-2111-49ff-875a-85c40ecec31f",
   "metadata": {
    "tags": []
   },
   "outputs": [],
   "source": [
    "def hyde_retrieval(query, n_results=5):\n",
    "    \"\"\"Implement HyDE for better retrieval.\"\"\"\n",
    "    # Step 1: Generate a hypothetical document using LLM\n",
    "    \n",
    "    hyde_prompt = f\"\"\"\n",
    "    You are a movie expert. Generate a detailed description of a movie that would perfectly answer this query: \"{query}\"\n",
    "    Include details about plot, themes, genre, and style.\n",
    "    \"\"\"\n",
    "    \n",
    "    hyde_response = client.models.generate_content(\n",
    "        model=\"gemini-2.0-flash\",\n",
    "        contents=[hyde_prompt],\n",
    "        config={\n",
    "        \"response_mime_type\": \"application/json\"\n",
    "    })\n",
    "    \n",
    "    hypothetical_document = hyde_response.text\n",
    "    \n",
    "    # Step 2: Embed this hypothetical document instead of the query\n",
    "    hyde_embedding = model.encode(hypothetical_document).tolist()\n",
    "    \n",
    "    # Step 3: Use this embedding for retrieval\n",
    "    results = collection.query(\n",
    "        query_embeddings=[hyde_embedding],\n",
    "        n_results=n_results\n",
    "    )\n",
    "    \n",
    "    # Format results\n",
    "    formatted_results = []\n",
    "    for doc, metadata, id in zip(results['documents'][0], \n",
    "                                results['metadatas'][0],\n",
    "                                results['ids'][0]):\n",
    "        formatted_results.append({\n",
    "            'id': id,\n",
    "            'document': doc,\n",
    "            'metadata': metadata,\n",
    "            'query': query\n",
    "        })\n",
    "    \n",
    "    return formatted_results\n",
    "\n",
    "\n",
    "def movie_hyde_rag(user_query):\n",
    "    # Retrieve relevant movie information\n",
    "    results = hyde_retrieval(user_query,15)\n",
    "    \n",
    "    # Format context from retrieved documents\n",
    "    context = \"\\n\\n\".join([res['document'] for res in results])\n",
    "\n",
    "    # Generate response\n",
    "    response = generate_rag_response(user_query, context)\n",
    "    \n",
    "    return response, results"
   ]
  },
  {
   "cell_type": "code",
   "execution_count": 16,
   "id": "9b8111ad-40fb-4cee-a751-de79277bfcea",
   "metadata": {
    "tags": []
   },
   "outputs": [],
   "source": [
    "response, results = movie_hyde_rag(\"sci-fi movies like Inception\")"
   ]
  },
  {
   "cell_type": "code",
   "execution_count": 17,
   "id": "c57b216c-a41a-4a11-9673-f330f8c529c0",
   "metadata": {
    "tags": []
   },
   "outputs": [
    {
     "name": "stdout",
     "output_type": "stream",
     "text": [
      "[\n",
      "  {\n",
      "    \"title\": \"Project Almanac\",\n",
      "    \"why_picked\": \"Features a group of teens who discover plans for a time machine and build one, leading to unforeseen consequences, similar to the high-stakes situations and technological themes in Inception.\"\n",
      "  },\n",
      "  {\n",
      "    \"title\": \"Frequency\",\n",
      "    \"why_picked\": \"Involves altering past events with ripple effects on the present, creating a complex narrative of cause and effect, reminiscent of the layered reality manipulation in Inception.\"\n",
      "  },\n",
      "  {\n",
      "    \"title\": \"Transcendence\",\n",
      "    \"why_picked\": \"Explores the idea of technological singularity and computers surpassing human intelligence, presenting a thought-provoking scenario about the nature of reality and consciousness, akin to the philosophical underpinnings of Inception.\"\n",
      "  },\n",
      "  {\n",
      "    \"title\": \"Timecrimes\",\n",
      "    \"why_picked\": \"Deals with the consequences of time travel and the creation of multiple versions of oneself, resulting in a mind-bending plot with escalating stakes, similar to the intricate plot structure of Inception.\"\n",
      "  },\n",
      "  {\n",
      "    \"title\": \"About Time\",\n",
      "    \"why_picked\": \"Presents a character who can travel through time and alter events in his own life, exploring the personal and emotional implications of manipulating reality, which echoes the theme of control and consequences in Inception.\"\n",
      "  },\n",
      "  {\n",
      "    \"title\": \"Her\",\n",
      "    \"why_picked\": \"Set in the near future, explores a unique relationship between a man and an operating system, blurring the lines between reality and artificial intelligence. It shares Inception's thought-provoking themes about human connection and the evolving nature of consciousness in a technologically advanced world.\"\n",
      "  }\n",
      "]\n"
     ]
    }
   ],
   "source": [
    "print(response)"
   ]
  },
  {
   "cell_type": "code",
   "execution_count": 18,
   "id": "51660896-e3ff-4926-ba9a-16c9c4630a7b",
   "metadata": {
    "tags": []
   },
   "outputs": [],
   "source": [
    "response, results = movie_rag(\"sci-fi movies like Inception\")"
   ]
  },
  {
   "cell_type": "code",
   "execution_count": 19,
   "id": "6edf8bb5-a5c7-4d6c-b71f-5dc5e8193cb4",
   "metadata": {
    "tags": []
   },
   "outputs": [
    {
     "name": "stdout",
     "output_type": "stream",
     "text": [
      "[\n",
      "  {\n",
      "    \"title\": \"Transcendence\",\n",
      "    \"why_picked\": \"Like Inception, Transcendence delves into the complex themes of the human mind and technology, presenting a thrilling and mysterious narrative about pushing the boundaries of what's possible.\"\n",
      "  },\n",
      "  {\n",
      "    \"title\": \"Interstellar\",\n",
      "    \"why_picked\": \"Interstellar shares Inception's grand scale and mind-bending concepts, exploring the limits of human understanding and the potential of the human mind through space travel and complex scientific theories.\"\n",
      "  },\n",
      "  {\n",
      "    \"title\": \"I Origins\",\n",
      "    \"why_picked\": \"Similar to Inception's exploration of reality and perception, I Origins blends science fiction with deep philosophical questions, challenging the protagonist's beliefs and understanding of the world through scientific discoveries.\"\n",
      "  },\n",
      "  {\n",
      "    \"title\": \"Dawn of the Planet of the Apes\",\n",
      "    \"why_picked\": \"shares Inception's action and suspenseful elements, the film presents a world where the lines between different groups are blurred, leading to complex conflicts and challenges for survival.\"\n",
      "  }\n",
      "]\n"
     ]
    }
   ],
   "source": [
    "print(response)"
   ]
  },
  {
   "cell_type": "markdown",
   "id": "6cc7e302-8dd9-4b12-bacb-33b2145d58d5",
   "metadata": {},
   "source": [
    "### 4.3 Retrieval with Query Decomposition"
   ]
  },
  {
   "cell_type": "code",
   "execution_count": 20,
   "id": "ac75d7da-e811-4f39-99b8-eeb13bda0dd8",
   "metadata": {
    "tags": []
   },
   "outputs": [],
   "source": [
    "class Query(BaseModel):\n",
    "    query: str\n",
    "    \n",
    "def decompose_query(query):\n",
    "    \"\"\"Decompose complex query into simpler sub-queries.\"\"\"\n",
    "    decompose_prompt = f\"\"\"\n",
    "    Break down this complex movie-related query into 2-3 simpler sub-queries:\n",
    "    \"{query}\"\n",
    "    \"\"\"\n",
    "    \n",
    "    decompose_response = client.models.generate_content(\n",
    "        model=\"gemini-2.0-flash\",\n",
    "        contents=[decompose_prompt],\n",
    "        config={\n",
    "        \"response_mime_type\": \"application/json\",\n",
    "        \"response_schema\": list[Query],\n",
    "    })\n",
    "\n",
    "    \n",
    "    # Parse the response to get sub-queries\n",
    "    sub_queries = json.loads(decompose_response.text)\n",
    "\n",
    "    sub_queries = [q['query'].strip() for q in sub_queries]\n",
    "        \n",
    "    return sub_queries"
   ]
  },
  {
   "cell_type": "code",
   "execution_count": 21,
   "id": "8edbc728-1946-462e-bca9-aa12b99344e7",
   "metadata": {
    "tags": []
   },
   "outputs": [
    {
     "data": {
      "text/plain": [
       "['Find science fiction movies about time travel.',\n",
       " 'Identify movies known for strong character development.',\n",
       " 'Find movies known for their emotional depth.']"
      ]
     },
     "execution_count": 21,
     "metadata": {},
     "output_type": "execute_result"
    }
   ],
   "source": [
    "complex_query = \"I want science fiction movies that deal with time travel but also have strong character development and emotional depth\"\n",
    "decompose_query(complex_query)"
   ]
  },
  {
   "cell_type": "code",
   "execution_count": 22,
   "id": "93f7190c-e20c-4161-9b72-d9c4d8ce13aa",
   "metadata": {
    "tags": []
   },
   "outputs": [],
   "source": [
    "def retrieve_with_decomposition(query, n_results=3):\n",
    "    \"\"\"Retrieve using query decomposition for complex queries.\"\"\"\n",
    "    print(f\"Original query: {query}\")\n",
    "    \n",
    "    # Step 1: Decompose the query\n",
    "    sub_queries = decompose_query(query)\n",
    "    print(f\"Decomposed into: {sub_queries}\")\n",
    "    \n",
    "    # Step 2: Retrieve for each sub-query\n",
    "    all_results = []\n",
    "    for sub_query in sub_queries:\n",
    "        # Get results for this sub-query\n",
    "        sub_results = retrieve_movie_info(sub_query, n_results=n_results)\n",
    "        print(f\"Retrieved {len(sub_results)} results for: '{sub_query}'\")\n",
    "        all_results.extend(sub_results)\n",
    "    \n",
    "    # Step 3: Remove duplicates and sort by relevance\n",
    "    unique_results = {}\n",
    "    for result in all_results:\n",
    "        if result['id'] not in unique_results:\n",
    "            unique_results[result['id']] = result\n",
    "    \n",
    "    return list(unique_results.values())\n",
    "\n",
    "def movie_decomposition_rag(user_query):\n",
    "    # Retrieve relevant movie information\n",
    "    results = retrieve_with_decomposition(user_query, 5)\n",
    "    \n",
    "    # Format context from retrieved documents\n",
    "    context = \"\\n\\n\".join([res['document'] for res in results])\n",
    "\n",
    "    # Generate response\n",
    "    response = generate_rag_response(user_query, context)\n",
    "    \n",
    "    return response, results"
   ]
  },
  {
   "cell_type": "code",
   "execution_count": 23,
   "id": "7d0b7c0d-c062-4eb7-a067-46f9552a3321",
   "metadata": {
    "tags": []
   },
   "outputs": [
    {
     "name": "stdout",
     "output_type": "stream",
     "text": [
      "Original query: I want science fiction movies that deal with time travel but also have strong character development and emotional depth\n",
      "Decomposed into: ['Find science fiction movies about time travel.', 'List movies known for strong character development.', 'Find movies known for their emotional depth and impact.']\n",
      "Retrieved 7 results for: 'Find science fiction movies about time travel.'\n",
      "Retrieved 12 results for: 'List movies known for strong character development.'\n",
      "Retrieved 8 results for: 'Find movies known for their emotional depth and impact.'\n"
     ]
    }
   ],
   "source": [
    "response, results = movie_decomposition_rag(complex_query)"
   ]
  },
  {
   "cell_type": "code",
   "execution_count": 24,
   "id": "455a61ba-641c-4905-bc63-42c4e734f388",
   "metadata": {
    "tags": []
   },
   "outputs": [
    {
     "name": "stdout",
     "output_type": "stream",
     "text": [
      "Original query: I want science fiction movies that deal with time travel but also have strong character development and emotional depth\n",
      "Decomposed into: ['Find science fiction movies featuring time travel.', 'Find movies with strong character development.', 'Find movies known for their emotional depth.']\n",
      "Retrieved 7 results for: 'Find science fiction movies featuring time travel.'\n",
      "Retrieved 11 results for: 'Find movies with strong character development.'\n",
      "Retrieved 7 results for: 'Find movies known for their emotional depth.'\n",
      "[\n",
      "  {\n",
      "    \"title\": \"About Time\",\n",
      "    \"why_picked\": \"This movie blends time travel with a strong emphasis on character development and emotional depth as the protagonist uses his abilities to improve his relationships and find personal fulfillment.\"\n",
      "  },\n",
      "  {\n",
      "    \"title\": \"Somewhere in Time\",\n",
      "    \"why_picked\": \"This film uses time travel as a means to explore a deep and enduring love connection, focusing on the emotional journey of the main characters as they overcome temporal obstacles.\"\n",
      "  },\n",
      "  {\n",
      "    \"title\": \"The Fountain\",\n",
      "    \"why_picked\": \"While spanning multiple timelines, this movie delves into themes of love, death, and spirituality, offering a complex and emotionally resonant narrative that transcends typical time travel stories.\"\n",
      "  }\n",
      "]\n"
     ]
    }
   ],
   "source": [
    "response, results = movie_decomposition_rag(complex_query)\n",
    "print(response)"
   ]
  },
  {
   "cell_type": "code",
   "execution_count": 25,
   "id": "b071ea5c-35ea-43c9-92a9-d8d87cce0295",
   "metadata": {
    "tags": []
   },
   "outputs": [],
   "source": [
    "response, results = movie_rag(complex_query)"
   ]
  },
  {
   "cell_type": "code",
   "execution_count": 26,
   "id": "223e8ed8-f331-4412-9a99-26b33fca545a",
   "metadata": {
    "tags": []
   },
   "outputs": [
    {
     "name": "stdout",
     "output_type": "stream",
     "text": [
      "[\n",
      "  {\n",
      "    \"title\": \"About Time\",\n",
      "    \"why_picked\": \"This movie blends time travel with strong character development and emotional depth. The plot focuses on Tim's personal journey as he uses his ability to travel through time to improve his life and find love, offering a mix of comedy, drama, and science fiction.\"\n",
      "  },\n",
      "  {\n",
      "    \"title\": \"The Time Traveler's Wife\",\n",
      "    \"why_picked\": \"This film centers on the love story between Henry and Clare, complicated by Henry's genetic disorder that causes him to involuntarily travel through time. The narrative explores their relationship across different moments in time, emphasizing emotional depth and character development within a time travel context.\"\n",
      "  }\n",
      "]\n"
     ]
    }
   ],
   "source": [
    "print(response)"
   ]
  },
  {
   "cell_type": "code",
   "execution_count": 27,
   "id": "4a6e13fb-be0f-4344-b940-06aa226c688b",
   "metadata": {
    "tags": []
   },
   "outputs": [],
   "source": [
    "response, results = movie_hyde_rag(complex_query)"
   ]
  },
  {
   "cell_type": "code",
   "execution_count": 28,
   "id": "e2784451-4d89-46bb-995a-c17ab2fbf810",
   "metadata": {
    "tags": []
   },
   "outputs": [
    {
     "name": "stdout",
     "output_type": "stream",
     "text": [
      "[\n",
      "  {\n",
      "    \"title\": \"About Time\",\n",
      "    \"why_picked\": \"This movie focuses on a character who uses time travel to improve his life and relationships, offering strong character development and emotional depth as he navigates the consequences of his actions.\"\n",
      "  },\n",
      "  {\n",
      "    \"title\": \"Frequency\",\n",
      "    \"why_picked\": \"This film blends time travel with a crime drama, exploring the emotional bond between a father and son who communicate across time to prevent a tragedy, showcasing the impact of changing the past.\"\n",
      "  },\n",
      "  {\n",
      "    \"title\": \"The Butterfly Effect\",\n",
      "    \"why_picked\": \"This movie delves into the consequences of altering past events, emphasizing character development as the protagonist grapples with the unforeseen and often devastating outcomes of his time-traveling actions, creating a suspenseful and emotionally charged narrative.\"\n",
      "  }\n",
      "]\n"
     ]
    }
   ],
   "source": [
    "print(response)"
   ]
  },
  {
   "cell_type": "code",
   "execution_count": null,
   "id": "9742583a-0221-44b8-8f6e-2598a8134cd0",
   "metadata": {},
   "outputs": [],
   "source": []
  }
 ],
 "metadata": {
  "kernelspec": {
   "display_name": "conda_python3",
   "language": "python",
   "name": "conda_python3"
  },
  "language_info": {
   "codemirror_mode": {
    "name": "ipython",
    "version": 3
   },
   "file_extension": ".py",
   "mimetype": "text/x-python",
   "name": "python",
   "nbconvert_exporter": "python",
   "pygments_lexer": "ipython3",
   "version": "3.10.17"
  }
 },
 "nbformat": 4,
 "nbformat_minor": 5
}
